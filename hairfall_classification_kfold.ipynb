{
 "cells": [
  {
   "cell_type": "code",
   "execution_count": 1,
   "id": "447ef72a",
   "metadata": {},
   "outputs": [],
   "source": [
    "import pandas as pd\n",
    "import numpy as np\n",
    "\n",
    "data = pd.read_csv(\"survey_data.csv\")\n",
    "data_test1 = data\n",
    "data_test2 = data\n",
    "data_test3 = data"
   ]
  },
  {
   "cell_type": "code",
   "execution_count": 2,
   "id": "78136016",
   "metadata": {},
   "outputs": [
    {
     "name": "stdout",
     "output_type": "stream",
     "text": [
      "<class 'pandas.core.frame.DataFrame'>\n",
      "RangeIndex: 554 entries, 0 to 553\n",
      "Data columns (total 23 columns):\n",
      " #   Column             Non-Null Count  Dtype\n",
      "---  ------             --------------  -----\n",
      " 0   Gender             554 non-null    int64\n",
      " 1   Age(Yrs.)          554 non-null    int64\n",
      " 2   Marital_Status     554 non-null    int64\n",
      " 3   Father             554 non-null    int64\n",
      " 4   Mother             554 non-null    int64\n",
      " 5   Grand_Father       554 non-null    int64\n",
      " 6   Grand_Mother       554 non-null    int64\n",
      " 7   Siblings           554 non-null    int64\n",
      " 8   Pregnant           554 non-null    int64\n",
      " 9   Radiation          554 non-null    int64\n",
      " 10  Hairline_Pattern   554 non-null    int64\n",
      " 11  Hairstyle          554 non-null    int64\n",
      " 12  Density            554 non-null    int64\n",
      " 13  Hair_Fall_Rate     554 non-null    int64\n",
      " 14  Scalp_Infection    554 non-null    int64\n",
      " 15  Pain_Itch          554 non-null    int64\n",
      " 16  Nutrition          554 non-null    int64\n",
      " 17  Weight_Loss        554 non-null    int64\n",
      " 18  Sleeping_Pattern   554 non-null    int64\n",
      " 19  Chemical_Products  554 non-null    int64\n",
      " 20  Medication         554 non-null    int64\n",
      " 21  Region             554 non-null    int64\n",
      " 22  Label              554 non-null    int64\n",
      "dtypes: int64(23)\n",
      "memory usage: 99.7 KB\n"
     ]
    },
    {
     "data": {
      "text/html": [
       "<div>\n",
       "<style scoped>\n",
       "    .dataframe tbody tr th:only-of-type {\n",
       "        vertical-align: middle;\n",
       "    }\n",
       "\n",
       "    .dataframe tbody tr th {\n",
       "        vertical-align: top;\n",
       "    }\n",
       "\n",
       "    .dataframe thead th {\n",
       "        text-align: right;\n",
       "    }\n",
       "</style>\n",
       "<table border=\"1\" class=\"dataframe\">\n",
       "  <thead>\n",
       "    <tr style=\"text-align: right;\">\n",
       "      <th></th>\n",
       "      <th>Gender</th>\n",
       "      <th>Age(Yrs.)</th>\n",
       "      <th>Marital_Status</th>\n",
       "      <th>Father</th>\n",
       "      <th>Mother</th>\n",
       "      <th>Grand_Father</th>\n",
       "      <th>Grand_Mother</th>\n",
       "      <th>Siblings</th>\n",
       "      <th>Pregnant</th>\n",
       "      <th>Radiation</th>\n",
       "      <th>...</th>\n",
       "      <th>Hair_Fall_Rate</th>\n",
       "      <th>Scalp_Infection</th>\n",
       "      <th>Pain_Itch</th>\n",
       "      <th>Nutrition</th>\n",
       "      <th>Weight_Loss</th>\n",
       "      <th>Sleeping_Pattern</th>\n",
       "      <th>Chemical_Products</th>\n",
       "      <th>Medication</th>\n",
       "      <th>Region</th>\n",
       "      <th>Label</th>\n",
       "    </tr>\n",
       "  </thead>\n",
       "  <tbody>\n",
       "    <tr>\n",
       "      <th>count</th>\n",
       "      <td>554.000000</td>\n",
       "      <td>554.000000</td>\n",
       "      <td>554.000000</td>\n",
       "      <td>554.000000</td>\n",
       "      <td>554.000000</td>\n",
       "      <td>554.000000</td>\n",
       "      <td>554.000000</td>\n",
       "      <td>554.000000</td>\n",
       "      <td>554.000000</td>\n",
       "      <td>554.000000</td>\n",
       "      <td>...</td>\n",
       "      <td>554.000000</td>\n",
       "      <td>554.000000</td>\n",
       "      <td>554.000000</td>\n",
       "      <td>554.000000</td>\n",
       "      <td>554.000000</td>\n",
       "      <td>554.000000</td>\n",
       "      <td>554.000000</td>\n",
       "      <td>554.000000</td>\n",
       "      <td>554.000000</td>\n",
       "      <td>554.000000</td>\n",
       "    </tr>\n",
       "    <tr>\n",
       "      <th>mean</th>\n",
       "      <td>0.454874</td>\n",
       "      <td>33.660650</td>\n",
       "      <td>0.422383</td>\n",
       "      <td>0.384477</td>\n",
       "      <td>0.259928</td>\n",
       "      <td>0.306859</td>\n",
       "      <td>0.185921</td>\n",
       "      <td>0.312274</td>\n",
       "      <td>0.012635</td>\n",
       "      <td>0.167870</td>\n",
       "      <td>...</td>\n",
       "      <td>121.095668</td>\n",
       "      <td>0.241877</td>\n",
       "      <td>0.326715</td>\n",
       "      <td>1.236462</td>\n",
       "      <td>0.261733</td>\n",
       "      <td>1.196751</td>\n",
       "      <td>0.357401</td>\n",
       "      <td>263.602888</td>\n",
       "      <td>123.703971</td>\n",
       "      <td>0.539711</td>\n",
       "    </tr>\n",
       "    <tr>\n",
       "      <th>std</th>\n",
       "      <td>0.668825</td>\n",
       "      <td>19.192289</td>\n",
       "      <td>0.494385</td>\n",
       "      <td>0.486911</td>\n",
       "      <td>0.438991</td>\n",
       "      <td>0.461607</td>\n",
       "      <td>0.389394</td>\n",
       "      <td>0.463840</td>\n",
       "      <td>0.111796</td>\n",
       "      <td>0.374089</td>\n",
       "      <td>...</td>\n",
       "      <td>117.690094</td>\n",
       "      <td>0.428607</td>\n",
       "      <td>0.469436</td>\n",
       "      <td>0.755957</td>\n",
       "      <td>0.439975</td>\n",
       "      <td>0.731065</td>\n",
       "      <td>0.479667</td>\n",
       "      <td>1983.242849</td>\n",
       "      <td>5.330226</td>\n",
       "      <td>0.498871</td>\n",
       "    </tr>\n",
       "    <tr>\n",
       "      <th>min</th>\n",
       "      <td>0.000000</td>\n",
       "      <td>5.000000</td>\n",
       "      <td>0.000000</td>\n",
       "      <td>0.000000</td>\n",
       "      <td>0.000000</td>\n",
       "      <td>0.000000</td>\n",
       "      <td>0.000000</td>\n",
       "      <td>0.000000</td>\n",
       "      <td>0.000000</td>\n",
       "      <td>0.000000</td>\n",
       "      <td>...</td>\n",
       "      <td>0.000000</td>\n",
       "      <td>0.000000</td>\n",
       "      <td>0.000000</td>\n",
       "      <td>0.000000</td>\n",
       "      <td>0.000000</td>\n",
       "      <td>0.000000</td>\n",
       "      <td>0.000000</td>\n",
       "      <td>0.000000</td>\n",
       "      <td>8.000000</td>\n",
       "      <td>0.000000</td>\n",
       "    </tr>\n",
       "    <tr>\n",
       "      <th>25%</th>\n",
       "      <td>0.000000</td>\n",
       "      <td>21.000000</td>\n",
       "      <td>0.000000</td>\n",
       "      <td>0.000000</td>\n",
       "      <td>0.000000</td>\n",
       "      <td>0.000000</td>\n",
       "      <td>0.000000</td>\n",
       "      <td>0.000000</td>\n",
       "      <td>0.000000</td>\n",
       "      <td>0.000000</td>\n",
       "      <td>...</td>\n",
       "      <td>38.000000</td>\n",
       "      <td>0.000000</td>\n",
       "      <td>0.000000</td>\n",
       "      <td>1.000000</td>\n",
       "      <td>0.000000</td>\n",
       "      <td>1.000000</td>\n",
       "      <td>0.000000</td>\n",
       "      <td>0.000000</td>\n",
       "      <td>124.000000</td>\n",
       "      <td>0.000000</td>\n",
       "    </tr>\n",
       "    <tr>\n",
       "      <th>50%</th>\n",
       "      <td>0.000000</td>\n",
       "      <td>25.000000</td>\n",
       "      <td>0.000000</td>\n",
       "      <td>0.000000</td>\n",
       "      <td>0.000000</td>\n",
       "      <td>0.000000</td>\n",
       "      <td>0.000000</td>\n",
       "      <td>0.000000</td>\n",
       "      <td>0.000000</td>\n",
       "      <td>0.000000</td>\n",
       "      <td>...</td>\n",
       "      <td>89.000000</td>\n",
       "      <td>0.000000</td>\n",
       "      <td>0.000000</td>\n",
       "      <td>1.000000</td>\n",
       "      <td>0.000000</td>\n",
       "      <td>1.000000</td>\n",
       "      <td>0.000000</td>\n",
       "      <td>0.000000</td>\n",
       "      <td>124.000000</td>\n",
       "      <td>1.000000</td>\n",
       "    </tr>\n",
       "    <tr>\n",
       "      <th>75%</th>\n",
       "      <td>1.000000</td>\n",
       "      <td>45.000000</td>\n",
       "      <td>1.000000</td>\n",
       "      <td>1.000000</td>\n",
       "      <td>1.000000</td>\n",
       "      <td>1.000000</td>\n",
       "      <td>0.000000</td>\n",
       "      <td>1.000000</td>\n",
       "      <td>0.000000</td>\n",
       "      <td>0.000000</td>\n",
       "      <td>...</td>\n",
       "      <td>200.000000</td>\n",
       "      <td>0.000000</td>\n",
       "      <td>1.000000</td>\n",
       "      <td>2.000000</td>\n",
       "      <td>1.000000</td>\n",
       "      <td>2.000000</td>\n",
       "      <td>1.000000</td>\n",
       "      <td>7.000000</td>\n",
       "      <td>124.000000</td>\n",
       "      <td>1.000000</td>\n",
       "    </tr>\n",
       "    <tr>\n",
       "      <th>max</th>\n",
       "      <td>2.000000</td>\n",
       "      <td>98.000000</td>\n",
       "      <td>1.000000</td>\n",
       "      <td>1.000000</td>\n",
       "      <td>1.000000</td>\n",
       "      <td>1.000000</td>\n",
       "      <td>1.000000</td>\n",
       "      <td>1.000000</td>\n",
       "      <td>1.000000</td>\n",
       "      <td>1.000000</td>\n",
       "      <td>...</td>\n",
       "      <td>1000.000000</td>\n",
       "      <td>1.000000</td>\n",
       "      <td>1.000000</td>\n",
       "      <td>2.000000</td>\n",
       "      <td>1.000000</td>\n",
       "      <td>2.000000</td>\n",
       "      <td>1.000000</td>\n",
       "      <td>34567.000000</td>\n",
       "      <td>124.000000</td>\n",
       "      <td>1.000000</td>\n",
       "    </tr>\n",
       "  </tbody>\n",
       "</table>\n",
       "<p>8 rows × 23 columns</p>\n",
       "</div>"
      ],
      "text/plain": [
       "           Gender   Age(Yrs.)  Marital_Status      Father      Mother  \\\n",
       "count  554.000000  554.000000      554.000000  554.000000  554.000000   \n",
       "mean     0.454874   33.660650        0.422383    0.384477    0.259928   \n",
       "std      0.668825   19.192289        0.494385    0.486911    0.438991   \n",
       "min      0.000000    5.000000        0.000000    0.000000    0.000000   \n",
       "25%      0.000000   21.000000        0.000000    0.000000    0.000000   \n",
       "50%      0.000000   25.000000        0.000000    0.000000    0.000000   \n",
       "75%      1.000000   45.000000        1.000000    1.000000    1.000000   \n",
       "max      2.000000   98.000000        1.000000    1.000000    1.000000   \n",
       "\n",
       "       Grand_Father  Grand_Mother    Siblings    Pregnant   Radiation  ...  \\\n",
       "count    554.000000    554.000000  554.000000  554.000000  554.000000  ...   \n",
       "mean       0.306859      0.185921    0.312274    0.012635    0.167870  ...   \n",
       "std        0.461607      0.389394    0.463840    0.111796    0.374089  ...   \n",
       "min        0.000000      0.000000    0.000000    0.000000    0.000000  ...   \n",
       "25%        0.000000      0.000000    0.000000    0.000000    0.000000  ...   \n",
       "50%        0.000000      0.000000    0.000000    0.000000    0.000000  ...   \n",
       "75%        1.000000      0.000000    1.000000    0.000000    0.000000  ...   \n",
       "max        1.000000      1.000000    1.000000    1.000000    1.000000  ...   \n",
       "\n",
       "       Hair_Fall_Rate  Scalp_Infection   Pain_Itch   Nutrition  Weight_Loss  \\\n",
       "count      554.000000       554.000000  554.000000  554.000000   554.000000   \n",
       "mean       121.095668         0.241877    0.326715    1.236462     0.261733   \n",
       "std        117.690094         0.428607    0.469436    0.755957     0.439975   \n",
       "min          0.000000         0.000000    0.000000    0.000000     0.000000   \n",
       "25%         38.000000         0.000000    0.000000    1.000000     0.000000   \n",
       "50%         89.000000         0.000000    0.000000    1.000000     0.000000   \n",
       "75%        200.000000         0.000000    1.000000    2.000000     1.000000   \n",
       "max       1000.000000         1.000000    1.000000    2.000000     1.000000   \n",
       "\n",
       "       Sleeping_Pattern  Chemical_Products    Medication      Region  \\\n",
       "count        554.000000         554.000000    554.000000  554.000000   \n",
       "mean           1.196751           0.357401    263.602888  123.703971   \n",
       "std            0.731065           0.479667   1983.242849    5.330226   \n",
       "min            0.000000           0.000000      0.000000    8.000000   \n",
       "25%            1.000000           0.000000      0.000000  124.000000   \n",
       "50%            1.000000           0.000000      0.000000  124.000000   \n",
       "75%            2.000000           1.000000      7.000000  124.000000   \n",
       "max            2.000000           1.000000  34567.000000  124.000000   \n",
       "\n",
       "            Label  \n",
       "count  554.000000  \n",
       "mean     0.539711  \n",
       "std      0.498871  \n",
       "min      0.000000  \n",
       "25%      0.000000  \n",
       "50%      1.000000  \n",
       "75%      1.000000  \n",
       "max      1.000000  \n",
       "\n",
       "[8 rows x 23 columns]"
      ]
     },
     "execution_count": 2,
     "metadata": {},
     "output_type": "execute_result"
    }
   ],
   "source": [
    "data.shape\n",
    "data.info()\n",
    "data.describe()"
   ]
  },
  {
   "cell_type": "code",
   "execution_count": 3,
   "id": "12cab749",
   "metadata": {},
   "outputs": [
    {
     "data": {
      "text/html": [
       "<div>\n",
       "<style scoped>\n",
       "    .dataframe tbody tr th:only-of-type {\n",
       "        vertical-align: middle;\n",
       "    }\n",
       "\n",
       "    .dataframe tbody tr th {\n",
       "        vertical-align: top;\n",
       "    }\n",
       "\n",
       "    .dataframe thead th {\n",
       "        text-align: right;\n",
       "    }\n",
       "</style>\n",
       "<table border=\"1\" class=\"dataframe\">\n",
       "  <thead>\n",
       "    <tr style=\"text-align: right;\">\n",
       "      <th></th>\n",
       "      <th>Gender</th>\n",
       "      <th>Age(Yrs.)</th>\n",
       "      <th>Marital_Status</th>\n",
       "      <th>Father</th>\n",
       "      <th>Mother</th>\n",
       "      <th>Grand_Father</th>\n",
       "      <th>Grand_Mother</th>\n",
       "      <th>Siblings</th>\n",
       "      <th>Pregnant</th>\n",
       "      <th>Radiation</th>\n",
       "      <th>...</th>\n",
       "      <th>Hair_Fall_Rate</th>\n",
       "      <th>Scalp_Infection</th>\n",
       "      <th>Pain_Itch</th>\n",
       "      <th>Nutrition</th>\n",
       "      <th>Weight_Loss</th>\n",
       "      <th>Sleeping_Pattern</th>\n",
       "      <th>Chemical_Products</th>\n",
       "      <th>Medication</th>\n",
       "      <th>Region</th>\n",
       "      <th>Label</th>\n",
       "    </tr>\n",
       "  </thead>\n",
       "  <tbody>\n",
       "    <tr>\n",
       "      <th>0</th>\n",
       "      <td>0</td>\n",
       "      <td>20</td>\n",
       "      <td>0</td>\n",
       "      <td>0</td>\n",
       "      <td>0</td>\n",
       "      <td>0</td>\n",
       "      <td>0</td>\n",
       "      <td>0</td>\n",
       "      <td>0</td>\n",
       "      <td>1</td>\n",
       "      <td>...</td>\n",
       "      <td>4</td>\n",
       "      <td>0</td>\n",
       "      <td>1</td>\n",
       "      <td>1</td>\n",
       "      <td>0</td>\n",
       "      <td>2</td>\n",
       "      <td>1</td>\n",
       "      <td>0</td>\n",
       "      <td>124</td>\n",
       "      <td>1</td>\n",
       "    </tr>\n",
       "    <tr>\n",
       "      <th>1</th>\n",
       "      <td>2</td>\n",
       "      <td>41</td>\n",
       "      <td>0</td>\n",
       "      <td>0</td>\n",
       "      <td>0</td>\n",
       "      <td>0</td>\n",
       "      <td>0</td>\n",
       "      <td>0</td>\n",
       "      <td>0</td>\n",
       "      <td>0</td>\n",
       "      <td>...</td>\n",
       "      <td>63</td>\n",
       "      <td>0</td>\n",
       "      <td>0</td>\n",
       "      <td>2</td>\n",
       "      <td>0</td>\n",
       "      <td>2</td>\n",
       "      <td>1</td>\n",
       "      <td>0</td>\n",
       "      <td>124</td>\n",
       "      <td>0</td>\n",
       "    </tr>\n",
       "    <tr>\n",
       "      <th>2</th>\n",
       "      <td>1</td>\n",
       "      <td>50</td>\n",
       "      <td>1</td>\n",
       "      <td>0</td>\n",
       "      <td>0</td>\n",
       "      <td>0</td>\n",
       "      <td>0</td>\n",
       "      <td>0</td>\n",
       "      <td>0</td>\n",
       "      <td>0</td>\n",
       "      <td>...</td>\n",
       "      <td>158</td>\n",
       "      <td>0</td>\n",
       "      <td>0</td>\n",
       "      <td>2</td>\n",
       "      <td>0</td>\n",
       "      <td>2</td>\n",
       "      <td>1</td>\n",
       "      <td>27</td>\n",
       "      <td>124</td>\n",
       "      <td>1</td>\n",
       "    </tr>\n",
       "    <tr>\n",
       "      <th>3</th>\n",
       "      <td>2</td>\n",
       "      <td>42</td>\n",
       "      <td>0</td>\n",
       "      <td>1</td>\n",
       "      <td>0</td>\n",
       "      <td>0</td>\n",
       "      <td>0</td>\n",
       "      <td>0</td>\n",
       "      <td>0</td>\n",
       "      <td>0</td>\n",
       "      <td>...</td>\n",
       "      <td>362</td>\n",
       "      <td>0</td>\n",
       "      <td>0</td>\n",
       "      <td>2</td>\n",
       "      <td>0</td>\n",
       "      <td>1</td>\n",
       "      <td>1</td>\n",
       "      <td>0</td>\n",
       "      <td>124</td>\n",
       "      <td>1</td>\n",
       "    </tr>\n",
       "    <tr>\n",
       "      <th>4</th>\n",
       "      <td>1</td>\n",
       "      <td>33</td>\n",
       "      <td>1</td>\n",
       "      <td>0</td>\n",
       "      <td>0</td>\n",
       "      <td>0</td>\n",
       "      <td>0</td>\n",
       "      <td>0</td>\n",
       "      <td>0</td>\n",
       "      <td>0</td>\n",
       "      <td>...</td>\n",
       "      <td>58</td>\n",
       "      <td>0</td>\n",
       "      <td>0</td>\n",
       "      <td>2</td>\n",
       "      <td>0</td>\n",
       "      <td>2</td>\n",
       "      <td>1</td>\n",
       "      <td>147</td>\n",
       "      <td>124</td>\n",
       "      <td>0</td>\n",
       "    </tr>\n",
       "  </tbody>\n",
       "</table>\n",
       "<p>5 rows × 23 columns</p>\n",
       "</div>"
      ],
      "text/plain": [
       "   Gender  Age(Yrs.)  Marital_Status  Father  Mother  Grand_Father  \\\n",
       "0       0         20               0       0       0             0   \n",
       "1       2         41               0       0       0             0   \n",
       "2       1         50               1       0       0             0   \n",
       "3       2         42               0       1       0             0   \n",
       "4       1         33               1       0       0             0   \n",
       "\n",
       "   Grand_Mother  Siblings  Pregnant  Radiation  ...  Hair_Fall_Rate  \\\n",
       "0             0         0         0          1  ...               4   \n",
       "1             0         0         0          0  ...              63   \n",
       "2             0         0         0          0  ...             158   \n",
       "3             0         0         0          0  ...             362   \n",
       "4             0         0         0          0  ...              58   \n",
       "\n",
       "   Scalp_Infection  Pain_Itch  Nutrition  Weight_Loss  Sleeping_Pattern  \\\n",
       "0                0          1          1            0                 2   \n",
       "1                0          0          2            0                 2   \n",
       "2                0          0          2            0                 2   \n",
       "3                0          0          2            0                 1   \n",
       "4                0          0          2            0                 2   \n",
       "\n",
       "   Chemical_Products  Medication  Region  Label  \n",
       "0                  1           0     124      1  \n",
       "1                  1           0     124      0  \n",
       "2                  1          27     124      1  \n",
       "3                  1           0     124      1  \n",
       "4                  1         147     124      0  \n",
       "\n",
       "[5 rows x 23 columns]"
      ]
     },
     "execution_count": 3,
     "metadata": {},
     "output_type": "execute_result"
    }
   ],
   "source": [
    "data_test1.head()"
   ]
  },
  {
   "cell_type": "code",
   "execution_count": 4,
   "id": "f813db0b",
   "metadata": {},
   "outputs": [],
   "source": [
    "x = data.drop(['Label'], axis = 'columns')\n",
    "y = data['Label']\n",
    "\n",
    "x_array = x.to_numpy()"
   ]
  },
  {
   "cell_type": "code",
   "execution_count": 5,
   "id": "47c8d3b3",
   "metadata": {},
   "outputs": [
    {
     "data": {
      "text/plain": [
       "MLPClassifier(max_iter=10000)"
      ]
     },
     "execution_count": 5,
     "metadata": {},
     "output_type": "execute_result"
    }
   ],
   "source": [
    "from sklearn.neural_network import MLPClassifier\n",
    "mlp = MLPClassifier(max_iter= 10000, activation='relu',solver='adam')\n",
    "mlp"
   ]
  },
  {
   "cell_type": "code",
   "execution_count": 6,
   "id": "0cad4881",
   "metadata": {},
   "outputs": [
    {
     "name": "stdout",
     "output_type": "stream",
     "text": [
      "Accuracy: 0.82, F1 Score: 0.81, Recall: 0.81, MCC: 0.63\n",
      "Accuracy: 0.88, F1 Score: 0.87, Recall: 0.88, MCC: 0.75\n",
      "Accuracy: 0.88, F1 Score: 0.87, Recall: 0.88, MCC: 0.75\n",
      "Accuracy: 0.80, F1 Score: 0.80, Recall: 0.80, MCC: 0.61\n",
      "Accuracy: 0.85, F1 Score: 0.84, Recall: 0.84, MCC: 0.69\n",
      "Accuracy: 0.96, F1 Score: 0.96, Recall: 0.96, MCC: 0.93\n",
      "Accuracy: 0.76, F1 Score: 0.76, Recall: 0.77, MCC: 0.53\n",
      "Accuracy: 0.96, F1 Score: 0.96, Recall: 0.96, MCC: 0.93\n",
      "Accuracy: 0.89, F1 Score: 0.89, Recall: 0.89, MCC: 0.78\n",
      "Accuracy: 0.82, F1 Score: 0.82, Recall: 0.82, MCC: 0.64\n",
      "Mean Accuracy: 0.86, Mean F1 Score: 0.86, Mean Recall: 0.86, Mean MCC: 0.72\n"
     ]
    }
   ],
   "source": [
    "from sklearn.model_selection import cross_val_predict\n",
    "from sklearn.model_selection import KFold\n",
    "from sklearn.metrics import accuracy_score, f1_score, recall_score, matthews_corrcoef\n",
    "from sklearn.preprocessing import MinMaxScaler\n",
    "\n",
    "kf = KFold(n_splits=10, shuffle=True, random_state=42) # choose the number of folds and random state\n",
    "\n",
    "accuracy_scores = []\n",
    "train_accuracy_scores = []\n",
    "f1_scores = []\n",
    "recall_scores = []\n",
    "mcc_scores = []\n",
    "\n",
    "for train_index, test_index in kf.split(x_array,y):\n",
    "    X_train, X_test = x_array[train_index], x_array[test_index]\n",
    "    y_train, y_test = y.iloc[train_index], y.iloc[test_index]\n",
    "    \n",
    "    scaler = MinMaxScaler()\n",
    "    scaler.fit(X_train)\n",
    "    X_train = scaler.transform(X_train)\n",
    "    X_test = scaler.transform(X_test)\n",
    "\n",
    "    mlp.fit(X_train, y_train)\n",
    "    y_pred = mlp.predict(X_test)\n",
    "\n",
    "    accuracy = accuracy_score(y_test, y_pred)\n",
    "    train_accuracy=accuracy_score(y_train,mlp.predict(X_train))\n",
    "    f1 = f1_score(y_test, y_pred, average='macro')\n",
    "    recall = recall_score(y_test, y_pred, average='macro')\n",
    "    mcc = matthews_corrcoef(y_test, y_pred)\n",
    "\n",
    "    accuracy_scores.append(accuracy)\n",
    "    train_accuracy_scores.append(train_accuracy)\n",
    "    f1_scores.append(f1)\n",
    "    recall_scores.append(recall)\n",
    "    mcc_scores.append(mcc)\n",
    "\n",
    "    print(f\"Accuracy: {accuracy:.2f}, F1 Score: {f1:.2f}, Recall: {recall:.2f}, MCC: {mcc:.2f}\")\n",
    "\n",
    "# Step 5: Evaluate the Model\n",
    "mean_accuracy = sum(accuracy_scores) / len(accuracy_scores)\n",
    "mean_f1 = sum(f1_scores) / len(f1_scores)\n",
    "mean_recall = sum(recall_scores) / len(recall_scores)\n",
    "mean_mcc = sum(mcc_scores) / len(mcc_scores)\n",
    "\n",
    "print(f\"Mean Accuracy: {mean_accuracy:.2f}, Mean F1 Score: {mean_f1:.2f}, Mean Recall: {mean_recall:.2f}, Mean MCC: {mean_mcc:.2f}\")"
   ]
  },
  {
   "cell_type": "code",
   "execution_count": 8,
   "id": "b14786a6",
   "metadata": {},
   "outputs": [
    {
     "data": {
      "image/png": "[encoded data removed]",
      "text/plain": [
       "<Figure size 432x288 with 1 Axes>"
      ]
     },
     "metadata": {
      "needs_background": "light"
     },
     "output_type": "display_data"
    }
   ],
   "source": [
    "import matplotlib.pyplot as plt\n",
    "k=10\n",
    "plt.plot(range(1, k+1), train_accuracy_scores, 'b-o', label='Train Accuracy')\n",
    "plt.plot(range(1, k+1), accuracy_scores, 'r-o',label='Test Accuracy')\n",
    "plt.xlabel('Fold Number')\n",
    "plt.ylabel('Accuracy')\n",
    "plt.legend()\n",
    "plt.show()"
   ]
  },
  {
   "cell_type": "code",
   "execution_count": 28,
   "id": "950ceecf",
   "metadata": {},
   "outputs": [
    {
     "name": "stdout",
     "output_type": "stream",
     "text": [
      "(443, 22)\n",
      "(111, 22)\n"
     ]
    }
   ],
   "source": [
    "from sklearn.model_selection import train_test_split\n",
    "x_train, x_test, y_train, y_test = train_test_split(x,y,test_size=0.2,random_state=42)\n",
    "print(x_train.shape)\n",
    "print(x_test.shape)"
   ]
  },
  {
   "cell_type": "code",
   "execution_count": 29,
   "id": "49ed0196",
   "metadata": {},
   "outputs": [],
   "source": [
    "#from sklearn.preprocessing import StandardScaler\n",
    "\n",
    "#scaler= StandardScaler()\n",
    "#data = scaler.fit_transform(data)"
   ]
  },
  {
   "cell_type": "code",
   "execution_count": 30,
   "id": "133b887f",
   "metadata": {},
   "outputs": [],
   "source": [
    "#data = pd.DataFrame(data,columns = ['Gender','Age(Yrs.)','Marital_Status','Father','Mother','Grand_Father','Grand_Mother','Siblings','Pregnant','Radiation','Hairline_Pattern','Hairstyle','Density','Hair_Fall_Rate','Scalp_Infection','Pain_Itch','Nutrition','Weight_Loss','Sleeping_Pattern','Chemical_Products','Medication','Region','Label'])\n",
    "#data.head()"
   ]
  },
  {
   "cell_type": "code",
   "execution_count": 31,
   "id": "346b7941",
   "metadata": {},
   "outputs": [],
   "source": [
    "#data.shape\n",
    "#data.head()\n",
    "#data.describe()"
   ]
  },
  {
   "cell_type": "code",
   "execution_count": null,
   "id": "4912dd8f",
   "metadata": {},
   "outputs": [],
   "source": []
  },
  {
   "cell_type": "code",
   "execution_count": null,
   "id": "dba7537f",
   "metadata": {},
   "outputs": [],
   "source": []
  },
  {
   "cell_type": "code",
   "execution_count": 50,
   "id": "37bf1a0e",
   "metadata": {},
   "outputs": [],
   "source": [
    "\n",
    "#from sklearn import svm"
   ]
  },
  {
   "cell_type": "code",
   "execution_count": 51,
   "id": "5d656a97",
   "metadata": {},
   "outputs": [
    {
     "data": {
      "text/plain": [
       "MLPClassifier(max_iter=10000)"
      ]
     },
     "execution_count": 51,
     "metadata": {},
     "output_type": "execute_result"
    }
   ],
   "source": [
    "#mlp = svm.SVC(kernel='rbf',C=1,random_state = 42)\n"
   ]
  },
  {
   "cell_type": "code",
   "execution_count": 52,
   "id": "90e4fd20",
   "metadata": {},
   "outputs": [
    {
     "data": {
      "text/plain": [
       "MLPClassifier(max_iter=10000)"
      ]
     },
     "execution_count": 52,
     "metadata": {},
     "output_type": "execute_result"
    }
   ],
   "source": [
    "mlp.fit(x_train,y_train)"
   ]
  },
  {
   "cell_type": "code",
   "execution_count": 53,
   "id": "089a477a",
   "metadata": {},
   "outputs": [],
   "source": [
    "pred = mlp.predict(x_test)\n"
   ]
  },
  {
   "cell_type": "code",
   "execution_count": 54,
   "id": "696d6289",
   "metadata": {},
   "outputs": [
    {
     "data": {
      "text/plain": [
       "array([[42, 10],\n",
       "       [ 3, 56]], dtype=int64)"
      ]
     },
     "execution_count": 54,
     "metadata": {},
     "output_type": "execute_result"
    }
   ],
   "source": [
    "from sklearn.metrics import classification_report, confusion_matrix\n",
    "cm = confusion_matrix(y_test,pred)\n",
    "cm"
   ]
  },
  {
   "cell_type": "code",
   "execution_count": 55,
   "id": "2c288ecd",
   "metadata": {},
   "outputs": [
    {
     "name": "stdout",
     "output_type": "stream",
     "text": [
      "              precision    recall  f1-score   support\n",
      "\n",
      "           0       0.93      0.81      0.87        52\n",
      "           1       0.85      0.95      0.90        59\n",
      "\n",
      "    accuracy                           0.88       111\n",
      "   macro avg       0.89      0.88      0.88       111\n",
      "weighted avg       0.89      0.88      0.88       111\n",
      "\n"
     ]
    }
   ],
   "source": [
    "print(classification_report(y_test,pred))\n"
   ]
  },
  {
   "cell_type": "code",
   "execution_count": 38,
   "id": "f4f5e268",
   "metadata": {},
   "outputs": [
    {
     "data": {
      "image/png": "[encoded data removed]",
      "text/plain": [
       "<Figure size 432x288 with 2 Axes>"
      ]
     },
     "metadata": {
      "needs_background": "light"
     },
     "output_type": "display_data"
    }
   ],
   "source": [
    "import seaborn as sns\n",
    "import matplotlib.pyplot as plt\n",
    "sns.heatmap(cm, cmap='Greens')\n",
    "plt.show()\n",
    "\n",
    "#sns.pairplot(data,hue='Label')\n",
    "#plt.show()\n",
    "#data_test1.columns"
   ]
  },
  {
   "cell_type": "code",
   "execution_count": 39,
   "id": "0e70271c",
   "metadata": {},
   "outputs": [],
   "source": [
    "data_test1 = data_test1[[ 'Age(Yrs.)', 'Marital_Status',\n",
    " 'Pregnant', 'Radiation','Scalp_Infection','Pain_Itch','Nutrition','Weight_Loss','Chemical_Products',\n",
    "       'Sleeping_Pattern','Medication','Label']]\n",
    "data_test2 = data_test2[['Father','Mother','Grand_Father','Grand_Mother','Siblings','Label']]\n",
    "data_test3 = data_test3[['Hair_Fall_Rate','Hairline_Pattern','Hairstyle','Density','Label']]"
   ]
  },
  {
   "cell_type": "code",
   "execution_count": 120,
   "id": "f63676f8",
   "metadata": {
    "scrolled": true
   },
   "outputs": [
    {
     "ename": "AttributeError",
     "evalue": "'numpy.ndarray' object has no attribute 'corr'",
     "output_type": "error",
     "traceback": [
      "\u001b[1;31m---------------------------------------------------------------------------\u001b[0m",
      "\u001b[1;31mAttributeError\u001b[0m                            Traceback (most recent call last)",
      "Input \u001b[1;32mIn [120]\u001b[0m, in \u001b[0;36m<cell line: 2>\u001b[1;34m()\u001b[0m\n\u001b[0;32m      1\u001b[0m plt\u001b[38;5;241m.\u001b[39mfigure(figsize\u001b[38;5;241m=\u001b[39m(\u001b[38;5;241m16\u001b[39m,\u001b[38;5;241m15\u001b[39m))\n\u001b[1;32m----> 2\u001b[0m sns\u001b[38;5;241m.\u001b[39mheatmap(\u001b[43mx_train\u001b[49m\u001b[38;5;241;43m.\u001b[39;49m\u001b[43mcorr\u001b[49m(), annot\u001b[38;5;241m=\u001b[39m\u001b[38;5;28;01mTrue\u001b[39;00m, cmap\u001b[38;5;241m=\u001b[39m\u001b[38;5;124m'\u001b[39m\u001b[38;5;124mcoolwarm\u001b[39m\u001b[38;5;124m'\u001b[39m)\n",
      "\u001b[1;31mAttributeError\u001b[0m: 'numpy.ndarray' object has no attribute 'corr'"
     ]
    },
    {
     "data": {
      "text/plain": [
       "<Figure size 1152x1080 with 0 Axes>"
      ]
     },
     "metadata": {},
     "output_type": "display_data"
    }
   ],
   "source": [
    "plt.figure(figsize=(16,15))\n",
    "sns.heatmap(x_train.corr(), annot=True, cmap='coolwarm')"
   ]
  },
  {
   "cell_type": "code",
   "execution_count": 157,
   "id": "b38249f5",
   "metadata": {},
   "outputs": [
    {
     "data": {
      "text/plain": [
       "<AxesSubplot:>"
      ]
     },
     "execution_count": 157,
     "metadata": {},
     "output_type": "execute_result"
    },
    {
     "data": {
      "image/png": "[encoded data removed]",
      "text/plain": [
       "<Figure size 432x288 with 2 Axes>"
      ]
     },
     "metadata": {
      "needs_background": "light"
     },
     "output_type": "display_data"
    }
   ],
   "source": [
    "plt.figure()\n",
    "sns.heatmap(data_test2.corr(), annot=True, cmap='coolwarm')"
   ]
  },
  {
   "cell_type": "code",
   "execution_count": 158,
   "id": "c8486c80",
   "metadata": {},
   "outputs": [
    {
     "data": {
      "text/plain": [
       "<AxesSubplot:>"
      ]
     },
     "execution_count": 158,
     "metadata": {},
     "output_type": "execute_result"
    },
    {
     "data": {
      "image/png": "[encoded data removed]",
      "text/plain": [
       "<Figure size 432x288 with 2 Axes>"
      ]
     },
     "metadata": {
      "needs_background": "light"
     },
     "output_type": "display_data"
    }
   ],
   "source": [
    "plt.figure()\n",
    "sns.heatmap(data_test3.corr(), annot=True, cmap='coolwarm')"
   ]
  },
  {
   "cell_type": "code",
   "execution_count": 86,
   "id": "a7026dc3",
   "metadata": {},
   "outputs": [
    {
     "data": {
      "image/png": "[encoded data removed]",
      "text/plain": [
       "<Figure size 432x288 with 1 Axes>"
      ]
     },
     "metadata": {
      "needs_background": "light"
     },
     "output_type": "display_data"
    }
   ],
   "source": [
    "import matplotlib.pyplot as plt\n",
    "\n",
    "# assuming you have train accuracy and test accuracy stored in separate lists or arrays\n",
    "train_acc = [0.85, 0.92, 0.96, 0.98, 0.99]\n",
    "test_acc = [0.78, 0.87, 0.92, 0.94, 0.95]\n",
    "\n",
    "# plot the train accuracy and test accuracy\n",
    "plt.plot(train_acc, label='Train Accuracy')\n",
    "plt.plot(test_acc, label='Test Accuracy')\n",
    "\n",
    "# add labels and title\n",
    "plt.xlabel('Epoch')\n",
    "plt.ylabel('Accuracy')\n",
    "plt.title('Train and Test Accuracy')\n",
    "\n",
    "# add legend\n",
    "plt.legend()\n",
    "\n",
    "# display the plot\n",
    "plt.show()\n"
   ]
  },
  {
   "cell_type": "code",
   "execution_count": null,
   "id": "0c7757f0",
   "metadata": {},
   "outputs": [],
   "source": []
  }
 ],
 "metadata": {
  "kernelspec": {
   "display_name": "Python 3 (ipykernel)",
   "language": "python",
   "name": "python3"
  },
  "language_info": {
   "codemirror_mode": {
    "name": "ipython",
    "version": 3
   },
   "file_extension": ".py",
   "mimetype": "text/x-python",
   "name": "python",
   "nbconvert_exporter": "python",
   "pygments_lexer": "ipython3",
   "version": "3.9.12"
  }
 },
 "nbformat": 4,
 "nbformat_minor": 5
}
